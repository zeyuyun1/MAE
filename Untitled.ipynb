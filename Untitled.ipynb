{
 "cells": [
  {
   "cell_type": "code",
   "execution_count": 1,
   "id": "experienced-track",
   "metadata": {},
   "outputs": [],
   "source": [
    "from model import * "
   ]
  },
  {
   "cell_type": "code",
   "execution_count": 2,
   "id": "three-citizenship",
   "metadata": {},
   "outputs": [],
   "source": [
    "model = MAE_ViT()"
   ]
  },
  {
   "cell_type": "code",
   "execution_count": 3,
   "id": "assisted-carpet",
   "metadata": {},
   "outputs": [],
   "source": [
    "img = torch.rand(2, 3, 32, 32)"
   ]
  },
  {
   "cell_type": "code",
   "execution_count": 4,
   "id": "bronze-feeling",
   "metadata": {},
   "outputs": [
    {
     "data": {
      "text/plain": [
       "2"
      ]
     },
     "execution_count": 4,
     "metadata": {},
     "output_type": "execute_result"
    }
   ],
   "source": [
    "len(model(img))"
   ]
  },
  {
   "cell_type": "code",
   "execution_count": 5,
   "id": "finite-daisy",
   "metadata": {},
   "outputs": [
    {
     "data": {
      "text/plain": [
       "0"
      ]
     },
     "execution_count": 5,
     "metadata": {},
     "output_type": "execute_result"
    }
   ],
   "source": [
    "3%1"
   ]
  },
  {
   "cell_type": "code",
   "execution_count": null,
   "id": "emotional-earthquake",
   "metadata": {},
   "outputs": [],
   "source": []
  }
 ],
 "metadata": {
  "kernelspec": {
   "display_name": "Python 3",
   "language": "python",
   "name": "python3"
  },
  "language_info": {
   "codemirror_mode": {
    "name": "ipython",
    "version": 3
   },
   "file_extension": ".py",
   "mimetype": "text/x-python",
   "name": "python",
   "nbconvert_exporter": "python",
   "pygments_lexer": "ipython3",
   "version": "3.8.8"
  }
 },
 "nbformat": 4,
 "nbformat_minor": 5
}
